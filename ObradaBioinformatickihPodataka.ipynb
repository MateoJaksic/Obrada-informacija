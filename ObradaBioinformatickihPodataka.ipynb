{
  "cells": [
    {
      "cell_type": "markdown",
      "metadata": {
        "id": "3T-0ApV462gi"
      },
      "source": [
        "# Obrada informacija\n",
        "\n",
        "## Laboratorijska vježba 2\n",
        "\n",
        "U ovoj vježbi upoznat ćete se s jednom primjenom tehnika obrade informacija u bioinformatici. Ova laboratorijska vježba nosi 4 boda. Izvješće s ove laboratorijske vježbe potrebno je predati u .pdf formatu na *Moodle*. Izvješće koje predajete se mora zvati *PrezimeIme.pdf*. \n",
        "\n",
        "Osim biblioteka za rad s Fourierovom transformacijom (koristit ćemo samo numpy) koristit ćemo i biblioteku biopython koja sadrži puno korisnih alata iz područja bioinformatike. Mi ćemo je koristiti za jednostavnije baratanje bioinformatičkim tipovima podataka.\n",
        "\n",
        "Biblioteka biopython dolazi s instalacijom Anaconde, ali ju je potrebno uključiti u okolinu (*environment*) koja se koristi.\n",
        "\n",
        "Ako vježbu izvodite u Google Colab okruženju, morate instalirati biblioteku biopython. Instalaciju je potrebno izvršiti u sklopu prvog zadatka ove laboratorijske vježbe. Instalaciju izvodite sljedećim kodom: \n",
        "\n",
        "    try:\n",
        "      import google.colab\n",
        "      !pip install biopython\n",
        "    except ImportError:\n",
        "      pass\n",
        "\n",
        "Nakon izvođenja ovog koda, možete učitati biopython biblioteku. "
      ]
    },
    {
      "cell_type": "code",
      "execution_count": null,
      "metadata": {
        "colab": {
          "base_uri": "https://localhost:8080/"
        },
        "id": "doTO0xROB_oe",
        "outputId": "52bfe024-fe72-46b8-8511-3479624c7049"
      },
      "outputs": [
        {
          "output_type": "stream",
          "name": "stdout",
          "text": [
            "Drive already mounted at /content/drive; to attempt to forcibly remount, call drive.mount(\"/content/drive\", force_remount=True).\n"
          ]
        }
      ],
      "source": [
        "from google.colab import drive\n",
        "drive.mount('/content/drive')"
      ]
    },
    {
      "cell_type": "markdown",
      "metadata": {
        "id": "sDnAktLV62gk"
      },
      "source": [
        "1. Zadatak\n",
        "\n",
        "Python biblioteke potrebne za laboratorijske vježbe su numpy i biopython. Uključite ih (\"importirajte\") i ispišite verziju svake od njih pomoću \\[ime_biblioteke\\].__version__.\n",
        "\n",
        "UPUTA: Osnovna biopython biblioteka ima naziv Bio."
      ]
    },
    {
      "cell_type": "code",
      "execution_count": null,
      "metadata": {
        "colab": {
          "base_uri": "https://localhost:8080/"
        },
        "id": "zr1maIcq62gm",
        "outputId": "8f13b49e-78e1-421b-b11f-f412b20adc53"
      },
      "outputs": [
        {
          "output_type": "stream",
          "name": "stdout",
          "text": [
            "Looking in indexes: https://pypi.org/simple, https://us-python.pkg.dev/colab-wheels/public/simple/\n",
            "Requirement already satisfied: Biopython in /usr/local/lib/python3.7/dist-packages (1.79)\n",
            "Requirement already satisfied: numpy in /usr/local/lib/python3.7/dist-packages (from Biopython) (1.21.6)\n",
            "\n",
            "Numpy verzija: 1.21.6\n",
            "Biopython verzija: 1.79\n"
          ]
        }
      ],
      "source": [
        "# Ovo je mjesto na kojem možete izvoditi svoj kod\n",
        "\n",
        "!pip install Biopython\n",
        "import numpy as np\n",
        "import Bio\n",
        "\n",
        "print()\n",
        "print(\"Numpy verzija:\", np.__version__)\n",
        "print(\"Biopython verzija:\", Bio.__version__)"
      ]
    },
    {
      "cell_type": "markdown",
      "metadata": {
        "id": "B2yvoqWo62gu"
      },
      "source": [
        "2. Zadatak\n",
        "\n",
        "Uz laboratorijske vježbe dobili ste dvije datoteke s podacima. Datoteku koja sadrži referentni genom jednog soja bakterije  Escherichia coli (escherichia_coli_reference.fasta) u FASTA formatu i datoteku koja sadrži skup očitanja dobivenih sekvenciranjem (ecoli_ILL_small.fastq) u FASTQ formatu.\n",
        "\n",
        "Datoteke možete učitati koristeći metodu _parse()_ iz biblioteke Bio.SeqIO. Metoda _parse()_ vraća iterator koji možete pretvoriti u Python listu na sljedeći način:\n",
        "\n",
        "    reads = list(parse(\"ime_datoteke\", \"tip_datoteke\"))\n",
        "\n",
        "Tip datoteke postavite na \"fasta\" ili \"fastq\".\n",
        "\n",
        "Učitajte obje datoteke te ispišite broj zapisa u svakoj od njih (broj elemenata u listi). Datoteka koja sadrži referencu trebala bi imati samo jedan zapis, dok bi datoteka s očitanjima trebala sadržavati veći broj zapisa.\n",
        "\n",
        "NAPOMENA: Ako niste sigurni kako pronaći datoteke na disku iz Jupyter notebook-a, uvijek možete provjeriti radni direktorij sljedećim naredbama:\n",
        "\n",
        "    import os\n",
        "    os.getcwd()\n",
        "\n",
        "i promijeniti ga sa:\n",
        "\n",
        "    os.chdir()\n",
        "\n",
        "Ako pak radite u Google Colab okruženju, koristite upute za učitavanje datoteka s Google diska iz prve laboratorijske vježbe. "
      ]
    },
    {
      "cell_type": "code",
      "execution_count": null,
      "metadata": {
        "colab": {
          "base_uri": "https://localhost:8080/"
        },
        "id": "-ntxEv0M62gv",
        "outputId": "7631c5e0-a86e-4107-f7bb-d95cf410d286"
      },
      "outputs": [
        {
          "output_type": "stream",
          "name": "stdout",
          "text": [
            "Broj zapisa u datoteci s referencom: 1\n",
            "Broj zapisa u datoteci s očitanjima: 38585\n"
          ]
        }
      ],
      "source": [
        "# Ovo je mjesto na kojem možete izvoditi svoj kod.\n",
        "from Bio.SeqIO import parse\n",
        "\n",
        "fasta = list(parse(\"escherichia_coli_reference.fasta\", \"fasta\"))\n",
        "fastq = list(parse(\"ecoli_ILL_small.fastq\", \"fastq\"))\n",
        "\n",
        "print(\"Broj zapisa u datoteci s referencom:\", len(fasta))\n",
        "print(\"Broj zapisa u datoteci s očitanjima:\", len(fastq))"
      ]
    },
    {
      "cell_type": "markdown",
      "metadata": {
        "id": "szNf-DeN62g1"
      },
      "source": [
        "3. Zadatak\n",
        "\n",
        "Svaki zapis koji ste učitali pomoću metode _Bio.SeqIO.parse()_ sadrži Veći broj podataka od kojih su nam bitni samo neki. Naredbom print ispišite cijeli prvi zapis iz datoteke s očitanjima i iz datoteke s referencom.\n",
        "\n",
        "Vidjet ćete da oba zapisa (među ostalim podacima) sadrže identifikator zapisa i sekvencu. Identifikator zapisa možete dohvatiti pomoću\n",
        "\n",
        "    zapis.id\n",
        "\n",
        "dok sekvencu možete dohvatiti pomoću\n",
        "\n",
        "    zapis.seq\n",
        "\n",
        "Ispišite identifikator i sekvencu za prvo očitanje te identifikator i prvih 200 znakova za referentni genom E.coli.\n",
        "\n",
        "NAPOMENA: Referentni genom Escherichia coli je dugačak oko 4.5 milijuna slova"
      ]
    },
    {
      "cell_type": "code",
      "execution_count": null,
      "metadata": {
        "colab": {
          "base_uri": "https://localhost:8080/"
        },
        "id": "uJhYsfdg62g2",
        "outputId": "28de4c3c-07b9-4fb0-e0b8-410a70815245"
      },
      "outputs": [
        {
          "output_type": "stream",
          "name": "stdout",
          "text": [
            "Prvi zapis iz datoteke s referencom:\n",
            "ID: NC_000913.3\n",
            "Name: NC_000913.3\n",
            "Description: NC_000913.3 Escherichia coli str. K-12 substr. MG1655, complete genome\n",
            "Number of features: 0\n",
            "Seq('AGCTTTTCATTCTGACTGCAACGGGCAATATGTCTCTGTGTGGATTAAAAAAAG...TTC')\n",
            "\n",
            "Prvi zapis iz datoteke s očitanjima:\n",
            "ID: SRR2052522.671\n",
            "Name: SRR2052522.671\n",
            "Description: SRR2052522.671 HWI-EAS390_0001:4:1:6915:1123/1\n",
            "Number of features: 0\n",
            "Per letter annotation for: phred_quality\n",
            "Seq('GATCTGGTGACCGGGTCGCGCAAAGTGATCATCGCCATGGAACATTGCGCCAAA...TGC')\n",
            "\n",
            "Identifikator za prvo očitanje:\n",
            "SRR2052522.671\n",
            "Sekvenca za prvo očitanje:\n",
            "GATCTGGTGACCGGGTCGCGCAAAGTGATCATCGCCATGGAACATTGCGCCAAAGATGGTTCAGCAAAAATTTTGGGCCTCTGTATCATGCCACTCACTGCGCAATATCCGGATCAAATGC\n",
            "\n",
            "Identifikator za referentni genom E.coli:\n",
            "NC_000913.3\n",
            "Prvih 200 znakova za referentni genom E.coli:\n",
            "AGCTTTTCATTCTGACTGCAACGGGCAATATGTCTCTGTGTGGATTAAAAAAAGAGTGTCTGATAGCAGCTTCTGAACTGGTTACCTGCCGTGAGTAAATTAAAATTTTATTGACTTAGGTCACTAAATACTTTAACCAATATAGGCATAGCGCACAGACAGATAAAAATTACAGAGTACACAACATCCATGAAACGCAT\n"
          ]
        }
      ],
      "source": [
        "# Ovo je mjesto na kojem možete izvoditi svoj kod. \n",
        "zapis1 = fasta.__getitem__(0)\n",
        "zapis2 = fastq.__getitem__(0)\n",
        "\n",
        "print(\"Prvi zapis iz datoteke s referencom:\")\n",
        "print(zapis1)\n",
        "print()\n",
        "print(\"Prvi zapis iz datoteke s očitanjima:\")\n",
        "print(zapis2)\n",
        "print()\n",
        "print(\"Identifikator za prvo očitanje:\")\n",
        "print(zapis2.id)\n",
        "print(\"Sekvenca za prvo očitanje:\")\n",
        "print(zapis2.seq)\n",
        "print()\n",
        "print(\"Identifikator za referentni genom E.coli:\")\n",
        "print(zapis1.id)\n",
        "print(\"Prvih 200 znakova za referentni genom E.coli:\")\n",
        "print(zapis1.seq[:200])"
      ]
    },
    {
      "cell_type": "markdown",
      "metadata": {
        "id": "rGr9V2i262g8"
      },
      "source": [
        "4. Zadatak\n",
        "\n",
        "Da bismo sekvence DNA analizirali metodama obrade signala, moramo pojednim nukleotidima (slovima) dodijeliti brojčane vrijednosti. Napišite funkciju u Pythonu koja će primiti slovo koje predstavlja nukleotid i vratiti odgovarajuću brojčanu vrijednost. Vrijednosti dodijelite na sljedeći način:\n",
        "\n",
        "- A =  3\n",
        "- G =  2\n",
        "- C = -2\n",
        "- T = -3\n",
        "\n",
        "DNA sekvence mogu sadržavati i neke druge znakove (npr. 'N' koji označava da taj nuklotid nije poznat), njima dodijelite vrijednost 0. Također se može dogoditi da nukleotidi budu označeni i malim slovima, pa vodite računa da vaša funkcija mora vratiti ispravnu vrijendost i u tom slučaju."
      ]
    },
    {
      "cell_type": "code",
      "execution_count": null,
      "metadata": {
        "id": "C25vmeTs62g-"
      },
      "outputs": [],
      "source": [
        "# Ovo je mjesto na kojem možete izvoditi svoj kod. \n",
        "\n",
        "def dohvatiVrijednost(slovo):\n",
        "  A_value = 3\n",
        "  G_value = 2\n",
        "  C_value = -2\n",
        "  T_value = -3\n",
        "  N_value = 0\n",
        "\n",
        "  if slovo == \"a\" or slovo == \"A\":\n",
        "    return A_value\n",
        "  elif slovo == \"g\" or slovo == \"G\":\n",
        "    return G_value\n",
        "  elif slovo == \"c\" or slovo == \"C\":\n",
        "    return C_value\n",
        "  elif slovo == \"t\" or slovo == \"T\":\n",
        "    return T_value\n",
        "  else:\n",
        "    return N_value"
      ]
    },
    {
      "cell_type": "markdown",
      "metadata": {
        "id": "AYPQrVck62hD"
      },
      "source": [
        "5. Zadatak\n",
        "\n",
        "Upotrebite napisanu funkciju da bi od prvog očitanja i od reference kreirali signal. Izračunajte korelaciju pomoću Fourierove transformacije. Zanemarite imaginarne vrijednosti."
      ]
    },
    {
      "cell_type": "code",
      "execution_count": null,
      "metadata": {
        "colab": {
          "base_uri": "https://localhost:8080/"
        },
        "id": "7kxDSpto62hF",
        "outputId": "7b238375-c9d0-4e21-8572-c1d1d440e2f5"
      },
      "outputs": [
        {
          "output_type": "stream",
          "name": "stdout",
          "text": [
            "Lista svih korelacija:\n",
            "[ -4. -12.  -9. ...  -1.   2.  -6.]\n",
            "Od izračunatih 4641772 korelacija najveća korelacija iznosi 693.0\n"
          ]
        }
      ],
      "source": [
        "# Ovo je mjesto na kojem možete izvoditi svoj kod. \n",
        "\n",
        "x1 = [dohvatiVrijednost(slovo) for slovo in zapis1.seq]\n",
        "x2 = [dohvatiVrijednost(slovo) for slovo in zapis2.seq]\n",
        "\n",
        "lenRef = len(x1)\n",
        "lenOci = len(x2)\n",
        "\n",
        "X1 = np.fft.fft(([0] * lenOci) + x1)\n",
        "X2 = np.fft.fft(x2 + ([0] * lenRef))\n",
        "\n",
        "korelacija = np.conjugate(X2)*X1\n",
        "korelacija = np.fft.ifft(korelacija).real\n",
        "for i in range(1, len(korelacija)):\n",
        "  korelacija[i-1] = korelacija[i]\n",
        "print(\"Lista svih korelacija:\")\n",
        "print(np.flip(korelacija[:-1]))\n",
        "print(\"Od izračunatih\", np.size(korelacija)-1, \"korelacija najveća korelacija iznosi\", np.round(abs(np.max(korelacija))))\n"
      ]
    },
    {
      "cell_type": "markdown",
      "metadata": {
        "id": "nftB8Mj062hK"
      },
      "source": [
        "6. Zadatak\n",
        "\n",
        "Ispišite duljinu reference. Koristeći metode biblioteke _numpy_, izračunajte srednju vrijednost i standardnu devijaciju duljine očitanja (uzmite u obzir sva očitanja).\n",
        "\n",
        "Primijetit ćete da su sva očitanja jednake duljine."
      ]
    },
    {
      "cell_type": "code",
      "execution_count": null,
      "metadata": {
        "colab": {
          "base_uri": "https://localhost:8080/"
        },
        "id": "pSI7dEKd62hL",
        "outputId": "9040e1e7-9855-4880-8f88-85025167fd8b"
      },
      "outputs": [
        {
          "output_type": "stream",
          "name": "stdout",
          "text": [
            "Duljina reference: 4641652\n",
            "Srednja vrijednost duljine očitanja: 121.0\n",
            "Standardna devijacija duljine očitanja: 0.0\n"
          ]
        }
      ],
      "source": [
        "# Ovo je mjesto na kojem možete izvoditi svoj kod. \n",
        "print(\"Duljina reference:\", np.size(zapis1.seq))\n",
        "\n",
        "duljine_očitanja = [len(očitanje.seq) for očitanje in fastq]\n",
        "print(\"Srednja vrijednost duljine očitanja:\", np.average(duljine_očitanja))\n",
        "print(\"Standardna devijacija duljine očitanja:\", np.std(duljine_očitanja))"
      ]
    },
    {
      "cell_type": "markdown",
      "metadata": {
        "id": "y6A6sHAQ62hS"
      },
      "source": [
        "7. zadatak\n",
        "\n",
        "Što ako želimo izračunati korelaciju za veći broj očitanja i istu referencu? To je tipičan slučaj u bioinformatici jer uređaji za sekvenciranje proizvode tisuće i desetke tisuća očitanja koja se potom mapiraju na istu referencu.\n",
        "\n",
        "Ako korelaciju računamo izravno, potrebno ju je svaki put izračunati iz početka. Ako korelaciju računamo pomoću FFT-a, transformaciju za referencu potrebno je napraviti samo jednom.\n",
        "\n",
        "Izračunajte korelacije za prvih 10 očitanja."
      ]
    },
    {
      "cell_type": "code",
      "execution_count": null,
      "metadata": {
        "colab": {
          "base_uri": "https://localhost:8080/"
        },
        "id": "F8mSvUQb62hT",
        "outputId": "60da68f0-17e8-4d86-9129-70d865389839"
      },
      "outputs": [
        {
          "output_type": "stream",
          "name": "stdout",
          "text": [
            "1. očitanje\n",
            "[ -4. -12.  -9. ...  -1.   2.  -6.]\n",
            "Maksimalna korelacija 693.0\n",
            "\n",
            "2. očitanje\n",
            "[-6.00000000e+00 -1.30000000e+01 -9.00000000e+00 ... -1.90000000e+01\n",
            "  7.10545621e-15  9.00000000e+00]\n",
            "Maksimalna korelacija 711.0\n",
            "\n",
            "3. očitanje\n",
            "[ -4. -10. -18. ... -11. -13.  -6.]\n",
            "Maksimalna korelacija 734.0\n",
            "\n",
            "4. očitanje\n",
            "[-6. -5. -9. ... -6. -3.  9.]\n",
            "Maksimalna korelacija 363.0\n",
            "\n",
            "5. očitanje\n",
            "[-6.00000000e+00 -5.00000000e+00  1.00000000e+00 ... -1.60000000e+01\n",
            " -4.79617212e-14  9.00000000e+00]\n",
            "Maksimalna korelacija 663.0\n",
            "\n",
            "6. očitanje\n",
            "[ -6. -13. -21. ...   9.  10.   6.]\n",
            "Maksimalna korelacija 782.0\n",
            "\n",
            "7. očitanje\n",
            "[ 4.00000000e+00 -2.13162196e-14 -9.00000000e+00 ...  1.60000000e+01\n",
            "  5.00000000e+00 -6.00000000e+00]\n",
            "Maksimalna korelacija 359.0\n",
            "\n",
            "8. očitanje\n",
            "[ 6.  5.  9. ... -7. 13.  6.]\n",
            "Maksimalna korelacija 801.0\n",
            "\n",
            "9. očitanje\n",
            "[ -6. -15. -12. ...  -9. -15.  -9.]\n",
            "Maksimalna korelacija 637.0\n",
            "\n",
            "10. očitanje\n",
            "[ -6.  -3.  -6. ...   6. -10.  -6.]\n",
            "Maksimalna korelacija 677.0\n",
            "\n"
          ]
        }
      ],
      "source": [
        "# Ovo je mjesto na kojem možete izvoditi svoj kod. \n",
        "\n",
        "# fft za korelaciju za referencu već imamo u varijabli X1\n",
        "\n",
        "for j in range(0,10):\n",
        "  zapis2 = fastq.__getitem__(j)\n",
        "  x1 = [dohvatiVrijednost(slovo) for slovo in zapis1.seq]\n",
        "  x2 = [dohvatiVrijednost(slovo) for slovo in zapis2.seq]\n",
        "\n",
        "  lenRef = len(x1)\n",
        "  lenOci = len(x2)\n",
        "\n",
        "  X1 = np.fft.fft(([0] * lenOci) + x1)\n",
        "  X2 = np.fft.fft(x2 + ([0] * lenRef))\n",
        "\n",
        "  korelacija = np.conjugate(X2)*X1\n",
        "  korelacija = np.fft.ifft(korelacija)\n",
        "  for i in range(1, len(korelacija)):\n",
        "    korelacija[i-1] = korelacija[i]\n",
        "  print(j+1,\". očitanje\", sep='')\n",
        "  print(np.flip(korelacija[:-1].real))\n",
        "  print(\"Maksimalna korelacija\", np.ceil(np.max(korelacija).real))\n",
        "  print()"
      ]
    },
    {
      "cell_type": "markdown",
      "metadata": {
        "id": "y4Cme55c62hb"
      },
      "source": [
        "8. zadatak\n",
        "\n",
        "Na temelju najveće vrijednosti korelacije između reference i prvog očitanja pronađite poziciju na referenci koja je najsličnija očitanju. Pozicija odgovara vrijednosti parametra k za koji je korelacija najveća.\n",
        "\n",
        "Napišite metodu koja će primiti dva niza znakova jednake duljine, usporediti znakove na istim pozicijama i vratiti broj razlika (Hammingova udaljenost).\n",
        "\n",
        "\"Izrežite\" dio reference koji je najsličniji očitanju (iste duljine kao i očitanje) i usporedite ga s očitanjem pomoću napisane funkcije."
      ]
    },
    {
      "cell_type": "code",
      "execution_count": null,
      "metadata": {
        "colab": {
          "base_uri": "https://localhost:8080/"
        },
        "id": "Yu0fsZUt62hc",
        "outputId": "c7ba1cbf-064a-4c48-ad0c-9750100415ed"
      },
      "outputs": [
        {
          "output_type": "stream",
          "name": "stdout",
          "text": [
            "Pozicija koja odgovara vrijednosti parametra k je 2317165\n",
            "Početak za poravnanje je na 2324486\n",
            "\n",
            "Očitanje gornji red / Referenca donji red:\n",
            "GATCTGGTGACCGGGTCGCGCAAAGTGATCATCGCCATGGAACATTGCGCCAAAGATGGTTCAGCAAAAATTTTGGGCCTCTGTATCATGCCACTCACTGCGCAATATCCGGATCAAATGC\n",
            "GATCTGGTGACCGGGTCGCGCAAAGTGATCATCGCCATGGAACATTGCGCCAAAGATGGTTCAGCAAAAATTTTGCGCCGCTGCACCATGCCACTCACTGCGCAACATGCGGTGCATATGC\n",
            "Hammingova udaljenost je 9.0\n"
          ]
        }
      ],
      "source": [
        "# Ovo je mjesto na kojem možete izvoditi svoj kod. \n",
        "\n",
        "x1 = [dohvatiVrijednost(slovo) for slovo in zapis1.seq]\n",
        "x2 = [dohvatiVrijednost(slovo) for slovo in zapis2.seq]\n",
        "\n",
        "lenRef = len(x1)\n",
        "lenOci = len(x2)\n",
        "X1 = np.fft.fft(([0] * lenOci) + x1)\n",
        "X2 = np.fft.fft(x2 + ([0] * lenRef))\n",
        "\n",
        "korelacija = np.conjugate(X2)*X1\n",
        "korelacija = np.fft.ifft(korelacija).real\n",
        "for i in range(1, len(korelacija)):\n",
        "  korelacija[i-1] = korelacija[i]\n",
        "korelacija = np.flip(korelacija)\n",
        "k_arr = range(-lenOci + 1, lenRef)\n",
        "k = k_arr[korelacija.argmax()]\n",
        "indexK = np.where(korelacija == np.max(korelacija))\n",
        "indexK = list(indexK)\n",
        "indexK = int(indexK[0])\n",
        "pocetak = len(korelacija) - k - duljine_očitanja[0] - 120\n",
        "print(\"Pozicija koja odgovara vrijednosti parametra k je\", indexK-1)\n",
        "print(\"Početak za poravnanje je na\", pocetak)\n",
        "zapis2 = fastq.__getitem__(0)\n",
        "print()\n",
        "print(\"Očitanje gornji red / Referenca donji red:\")\n",
        "print(zapis2.seq)\n",
        "print(zapis1.seq[pocetak : int(duljine_očitanja[0]) + int(pocetak)])\n",
        "\n",
        "import scipy \n",
        "from scipy.spatial.distance import hamming\n",
        "hamming_distance = len(zapis2.seq) * hamming(zapis2.seq, zapis1.seq[pocetak : int(duljine_očitanja[0]) + pocetak])\n",
        "print(\"Hammingova udaljenost je\", hamming_distance)"
      ]
    },
    {
      "cell_type": "markdown",
      "metadata": {
        "id": "k7Ne7pfy62hh"
      },
      "source": [
        "9. zadatak\n",
        "\n",
        "U datoteci \"ecoli_ILL_small_aln.sam\" dana su već izračunata poravnanja svih očitanja na referencu u SAM formatu. SAM je tekstualni \"tab separated\" format. U prvom stupcu se nalati identifikator očitanja, dok se u četvrtom stupcu nalazi pozicija na referenci na koju je očitanje najbolje poravnato (ostali stupci nas ne zanimaju). Također, datoteka s poravnanjima sadrži i nekoliko _header_ readaka kojima prvi stupac počinje sa znakom '@', njih također možete zanemariti.\n",
        "\n",
        "Otvorite datoteku s poravnanjima i pronađite poravnanje za prvo očitanje (identifikator očitanja u datoteci s očitanjima i datoteci s poravnanjima mora biti jednak). Usporedite poziciju u datoteci sa pozicijom koju ste dobili pomoću korelacije.\n",
        "\n",
        "UPOUTA: TSV datoteke možete otvoriti na sljedeći način:\n",
        "\n",
        "    tsv_file = open(\"file_name\")\n",
        "    tsv_rows = csv.reader(tsv_file, delimiter=\"\\t\")\n",
        "\n",
        "Varijabla _tsv\\_rows_ će sadržavati listu redaka, a svaki redak biti lista vrijednosti (po jedna za svaki stupac)."
      ]
    },
    {
      "cell_type": "code",
      "execution_count": null,
      "metadata": {
        "colab": {
          "base_uri": "https://localhost:8080/"
        },
        "id": "s4dMPoJR62hi",
        "outputId": "6548356a-0b1e-4220-def3-2fa51031e65c",
        "scrolled": true
      },
      "outputs": [
        {
          "output_type": "stream",
          "name": "stdout",
          "text": [
            "Zapis ua prvo očitanje je:\n",
            "SRR2052522.671\t0\tNC_000913.3\t2324487\t60\t112M9S\t*\t0\t0\tGATCTGGTGACCGGGTCGCGCAAAGTGATCATCGCCATGGAACATTGCGCCAAAGATGGTTCAGCAAAAATTTTGGGCCTCTGTATCATGCCACTCACTGCGCAATATCCGGATCAAATGC\tBGGG?D:GGDD=BFFBFFDEGDGGDDGGDDDEBBED8DDF2??==GEDGDG<<>BGG>G>=A,A=8A<?1=???A##############################################\tNM:i:6\tms:i:188\tAS:i:188\tnn:i:0\ttp:A:P\tcm:i:13\ts1:i:78\ts2:i:0\tdv:f:0.0320\n",
            "\n",
            "Identifikator očitanje je SRR2052522.671\n",
            "Poravnanje za prvo očitanje je 2324487\n"
          ]
        }
      ],
      "source": [
        "from Bio.AlignIO.PhylipIO import sanitize_name\n",
        "# Ovo je mjesto na kojem možete izvoditi svoj kod. \n",
        "import csv\n",
        "\n",
        "def provjeri(znak):\n",
        "  if znak == \"\\t\":\n",
        "    znak = ' '\n",
        "    return znak\n",
        "  else:\n",
        "    return znak\n",
        "\n",
        "lista_zapisa = [sorted]\n",
        "with open(\"ecoli_ILL_small_aln.sam\", 'r') as csvfile:\n",
        "    sam = csv.reader(csvfile, delimiter=' ', quotechar='|')\n",
        "    for row in sam:\n",
        "        zapis = ''.join(row)\n",
        "        if(zapis[0] == 'S'):\n",
        "          print(\"Zapis ua prvo očitanje je:\")\n",
        "          print(zapis)\n",
        "          zapis = list(zapis)\n",
        "          slozeno = []\n",
        "          [slozeno.append(provjeri(znak)) for znak in zapis]\n",
        "          slozeno = ''.join(slozeno)\n",
        "          slozeno = slozeno.split(\" \")\n",
        "          print()\n",
        "          print(\"Identifikator očitanje je\", slozeno[0])\n",
        "          print(\"Poravnanje za prvo očitanje je\", slozeno[3])\n",
        "          break"
      ]
    },
    {
      "cell_type": "markdown",
      "metadata": {
        "id": "fdVXO79s62ho"
      },
      "source": [
        "10. zadatak\n",
        "\n",
        "Za prvo očitanje pozicija dobivena pomoću korelacije trabala bi biti 2324486, dok je pozicija u datoteci s poravnanjima 2324487. Razlikuju se samo za 1 pa možemo zaključiti da nam je korelacija dala dobru poziciju za poravnanje.\n",
        "\n",
        "Prisjetimo se da korelacija ne računa točno poravnanje već ju koristimo samo da bi našli kandidatne pozicije za točno računanje. Tek onda na takvim pozicijama možemo točno poravnanje izračunati pomoću algoritama dinamičkog programiranja. Ako bi primijenili dinamičko programiranje za računanje poravnanja očitanja s cijelom referencom, postupak bi bio znatno sporiji i zahtijevao bi veliku količinu radne memorije.\n",
        "\n",
        "**Ako želite** to možete isprobati pomoću algoritama za poravnanje u biblioteci _bioparser_. Lokalno poravnanje možete izračunati metodom:\n",
        "\n",
        "    Bio.pairwise2.align.localxx(seq1, seq2)\n",
        "\n",
        "Za prvih 100 očitanja izračunajte korelaciju te pomoću korelacije poziciju najveće sličnosti očitanja i reference. Usporedite rezultat sa podacima u datoteci s poravnanjima. Ispišite broj očitanja za koja se dvije pozicije razlikuju za najviše 5 mjesta."
      ]
    },
    {
      "cell_type": "code",
      "source": [
        "# Ovo je mjesto na kojem možete izvoditi svoj kod. \n",
        "from Bio import pairwise2\n",
        "\n",
        "print(\"Lokalno poravnanje:\")\n",
        "for x in pairwise2.align.localxx(zapis2.seq, zapis1.seq[pocetak : int(duljine_očitanja[0]) + pocetak + 10])[:1]:\n",
        "  print(pairwise2.format_alignment(*x))\n"
      ],
      "metadata": {
        "colab": {
          "base_uri": "https://localhost:8080/"
        },
        "id": "mWfbIggn3bq7",
        "outputId": "8616ecf9-c247-43db-a8f4-73eac46109fc"
      },
      "execution_count": null,
      "outputs": [
        {
          "output_type": "stream",
          "name": "stdout",
          "text": [
            "Lokalno poravnanje:\n",
            "1 GATCTGGTGACCGGGTCGCGCAAAGTGATCATCGCCATGGAACATTGCGCCAAAGATGGTTCAGCAAAAATTTTGG-GCCT-CTGT-ATC-ATGCCACTCACTGCGCAAT-ATC-CGGAT-CAA-ATG-------C\n",
            "  |||||||||||||||||||||||||||||||||||||||||||||||||||||||||||||||||||||||||| | |||  |||  | | ||||||||||||||||||  ||  ||| | | | |||       |\n",
            "1 GATCTGGTGACCGGGTCGCGCAAAGTGATCATCGCCATGGAACATTGCGCCAAAGATGGTTCAGCAAAAATTTT-GCGCC-GCTG-CA-CCATGCCACTCACTGCGCAA-CAT-GCGG-TGC-ATATGCTGGTTAC\n",
            "  Score=113\n",
            "\n"
          ]
        }
      ]
    },
    {
      "cell_type": "code",
      "execution_count": null,
      "metadata": {
        "id": "g-f-TyxR62hp"
      },
      "outputs": [],
      "source": [
        "polje_korelacija = []\n",
        "def izracunaj_korelaciju():\n",
        "  x1 = [dohvatiVrijednost(slovo) for slovo in zapis1.seq]\n",
        "  for index in range(0,100):\n",
        "    zapis2 = fastq.__getitem__(index)\n",
        "    x2 = [dohvatiVrijednost(slovo) for slovo in zapis2.seq]\n",
        "\n",
        "    lenRef = len(x1)\n",
        "    lenOci = len(x2)\n",
        "    X1 = np.fft.fft(([0] * lenOci) + x1)\n",
        "    X2 = np.fft.fft(x2 + ([0] * lenRef))\n",
        "\n",
        "    korelacija = np.conjugate(X2)*X1\n",
        "    korelacija = np.fft.ifft(korelacija).real\n",
        "    for i in range(1, len(korelacija)):\n",
        "      korelacija[i-1] = korelacija[i]\n",
        "    korelacija = np.flip(korelacija)\n",
        "    k_arr = range(-lenOci + 1, lenRef)\n",
        "    k = k_arr[korelacija.argmax()]\n",
        "\n",
        "    pocetak = len(korelacija) - k - duljine_očitanja[0] - 120\n",
        "\n",
        "    polje_korelacija.append(pocetak)\n",
        "\n",
        "izracunaj_korelaciju()  \n"
      ]
    },
    {
      "cell_type": "code",
      "source": [
        "razlikuju = 0\n",
        "\n",
        "id_lista = []\n",
        "for i in range(0,100):\n",
        "  zapis2 = fastq.__getitem__(i)\n",
        "  id_lista.append(zapis2.id)\n",
        "\n",
        "with open(\"ecoli_ILL_small_aln.sam\", 'r') as csvfile:\n",
        "    sam = csv.reader(csvfile, delimiter=' ', quotechar='|')\n",
        "    counter = 0\n",
        "    for row in sam:\n",
        "        zapis = ''.join(row)\n",
        "        zapis = list(zapis)\n",
        "        slozeno = []\n",
        "        [slozeno.append(provjeri(znak)) for znak in zapis]\n",
        "        slozeno = ''.join(slozeno)\n",
        "        slozeno = slozeno.split(\" \")\n",
        "        if(slozeno[0] == id_lista[counter] and counter < 100):\n",
        "          print(counter+1, \"- Poravnanje za podatke pod identifikatorom\", slozeno[0])\n",
        "          zapis = list(zapis)\n",
        "          print(\"Podatak iz datoteke s poravnanjima\", slozeno[3])\n",
        "          print(\"Izračunata korelacija za očitanje je\", polje_korelacija[counter])\n",
        "          if (abs(int(slozeno[3]) - int(polje_korelacija[counter])) <= 5):\n",
        "            razlikuju = razlikuju + 1\n",
        "          print()\n",
        "          counter = counter + 1\n",
        "        if(counter >= 100):\n",
        "          break\n",
        "\n",
        "print(\"Podataka koji se razlikuju za najviše 5 ima:\", razlikuju)"
      ],
      "metadata": {
        "colab": {
          "base_uri": "https://localhost:8080/"
        },
        "id": "BZtwLqTc2HAM",
        "outputId": "f19094b8-0b57-491f-ecf9-82b92436dd22"
      },
      "execution_count": null,
      "outputs": [
        {
          "output_type": "stream",
          "name": "stdout",
          "text": [
            "1 - Poravnanje za podatke pod identifikatorom SRR2052522.671\n",
            "Podatak iz datoteke s poravnanjima 2324487\n",
            "Izračunata korelacija za očitanje je 2324486\n",
            "\n",
            "2 - Poravnanje za podatke pod identifikatorom SRR2052522.1445\n",
            "Podatak iz datoteke s poravnanjima 1877261\n",
            "Izračunata korelacija za očitanje je 1877260\n",
            "\n",
            "3 - Poravnanje za podatke pod identifikatorom SRR2052522.2358\n",
            "Podatak iz datoteke s poravnanjima 557778\n",
            "Izračunata korelacija za očitanje je 557777\n",
            "\n",
            "4 - Poravnanje za podatke pod identifikatorom SRR2052522.2665\n",
            "Podatak iz datoteke s poravnanjima 3910489\n",
            "Izračunata korelacija za očitanje je 1144877\n",
            "\n",
            "5 - Poravnanje za podatke pod identifikatorom SRR2052522.3419\n",
            "Podatak iz datoteke s poravnanjima 20240\n",
            "Izračunata korelacija za očitanje je 3583639\n",
            "\n",
            "6 - Poravnanje za podatke pod identifikatorom SRR2052522.4013\n",
            "Podatak iz datoteke s poravnanjima 4051519\n",
            "Izračunata korelacija za očitanje je 4051518\n",
            "\n",
            "7 - Poravnanje za podatke pod identifikatorom SRR2052522.5167\n",
            "Podatak iz datoteke s poravnanjima 2808648\n",
            "Izračunata korelacija za očitanje je 2293706\n",
            "\n",
            "8 - Poravnanje za podatke pod identifikatorom SRR2052522.6280\n",
            "Podatak iz datoteke s poravnanjima 1011324\n",
            "Izračunata korelacija za očitanje je 1011323\n",
            "\n",
            "9 - Poravnanje za podatke pod identifikatorom SRR2052522.6520\n",
            "Podatak iz datoteke s poravnanjima 628547\n",
            "Izračunata korelacija za očitanje je 628546\n",
            "\n",
            "10 - Poravnanje za podatke pod identifikatorom SRR2052522.7959\n",
            "Podatak iz datoteke s poravnanjima 1497922\n",
            "Izračunata korelacija za očitanje je 1497921\n",
            "\n",
            "11 - Poravnanje za podatke pod identifikatorom SRR2052522.8279\n",
            "Podatak iz datoteke s poravnanjima 1978731\n",
            "Izračunata korelacija za očitanje je 3583853\n",
            "\n",
            "12 - Poravnanje za podatke pod identifikatorom SRR2052522.8771\n",
            "Podatak iz datoteke s poravnanjima 1212333\n",
            "Izračunata korelacija za očitanje je 1212332\n",
            "\n",
            "13 - Poravnanje za podatke pod identifikatorom SRR2052522.9090\n",
            "Podatak iz datoteke s poravnanjima 304112\n",
            "Izračunata korelacija za očitanje je 1877622\n",
            "\n",
            "14 - Poravnanje za podatke pod identifikatorom SRR2052522.9821\n",
            "Podatak iz datoteke s poravnanjima 1890087\n",
            "Izračunata korelacija za očitanje je 1890086\n",
            "\n",
            "15 - Poravnanje za podatke pod identifikatorom SRR2052522.9910\n",
            "Podatak iz datoteke s poravnanjima 111862\n",
            "Izračunata korelacija za očitanje je 4440502\n",
            "\n",
            "16 - Poravnanje za podatke pod identifikatorom SRR2052522.10058\n",
            "Podatak iz datoteke s poravnanjima 774593\n",
            "Izračunata korelacija za očitanje je 2607362\n",
            "\n",
            "17 - Poravnanje za podatke pod identifikatorom SRR2052522.10090\n",
            "Podatak iz datoteke s poravnanjima 1241864\n",
            "Izračunata korelacija za očitanje je 2279284\n",
            "\n",
            "18 - Poravnanje za podatke pod identifikatorom SRR2052522.10105\n",
            "Podatak iz datoteke s poravnanjima 2456799\n",
            "Izračunata korelacija za očitanje je 2456798\n",
            "\n",
            "19 - Poravnanje za podatke pod identifikatorom SRR2052522.10574\n",
            "Podatak iz datoteke s poravnanjima 0\n",
            "Izračunata korelacija za očitanje je 4434676\n",
            "\n",
            "20 - Poravnanje za podatke pod identifikatorom SRR2052522.11406\n",
            "Podatak iz datoteke s poravnanjima 3968957\n",
            "Izračunata korelacija za očitanje je 3968956\n",
            "\n",
            "21 - Poravnanje za podatke pod identifikatorom SRR2052522.11415\n",
            "Podatak iz datoteke s poravnanjima 3382490\n",
            "Izračunata korelacija za očitanje je 3382489\n",
            "\n",
            "22 - Poravnanje za podatke pod identifikatorom SRR2052522.12625\n",
            "Podatak iz datoteke s poravnanjima 4042796\n",
            "Izračunata korelacija za očitanje je 4042795\n",
            "\n",
            "23 - Poravnanje za podatke pod identifikatorom SRR2052522.12675\n",
            "Podatak iz datoteke s poravnanjima 2599245\n",
            "Izračunata korelacija za očitanje je 1928792\n",
            "\n",
            "24 - Poravnanje za podatke pod identifikatorom SRR2052522.13059\n",
            "Podatak iz datoteke s poravnanjima 832384\n",
            "Izračunata korelacija za očitanje je 2487647\n",
            "\n",
            "25 - Poravnanje za podatke pod identifikatorom SRR2052522.13407\n",
            "Podatak iz datoteke s poravnanjima 1242186\n",
            "Izračunata korelacija za očitanje je 1242185\n",
            "\n",
            "26 - Poravnanje za podatke pod identifikatorom SRR2052522.14701\n",
            "Podatak iz datoteke s poravnanjima 316302\n",
            "Izračunata korelacija za očitanje je 2171246\n",
            "\n",
            "27 - Poravnanje za podatke pod identifikatorom SRR2052522.14740\n",
            "Podatak iz datoteke s poravnanjima 147895\n",
            "Izračunata korelacija za očitanje je 147894\n",
            "\n",
            "28 - Poravnanje za podatke pod identifikatorom SRR2052522.14960\n",
            "Podatak iz datoteke s poravnanjima 1986928\n",
            "Izračunata korelacija za očitanje je 1986927\n",
            "\n",
            "29 - Poravnanje za podatke pod identifikatorom SRR2052522.15014\n",
            "Podatak iz datoteke s poravnanjima 1828206\n",
            "Izračunata korelacija za očitanje je 3802944\n",
            "\n",
            "30 - Poravnanje za podatke pod identifikatorom SRR2052522.15269\n",
            "Podatak iz datoteke s poravnanjima 3005217\n",
            "Izračunata korelacija za očitanje je 1475693\n",
            "\n",
            "31 - Poravnanje za podatke pod identifikatorom SRR2052522.15672\n",
            "Podatak iz datoteke s poravnanjima 0\n",
            "Izračunata korelacija za očitanje je 4189623\n",
            "\n",
            "32 - Poravnanje za podatke pod identifikatorom SRR2052522.18106\n",
            "Podatak iz datoteke s poravnanjima 2753346\n",
            "Izračunata korelacija za očitanje je 2753343\n",
            "\n",
            "33 - Poravnanje za podatke pod identifikatorom SRR2052522.18801\n",
            "Podatak iz datoteke s poravnanjima 1441973\n",
            "Izračunata korelacija za očitanje je 1441972\n",
            "\n",
            "34 - Poravnanje za podatke pod identifikatorom SRR2052522.19022\n",
            "Podatak iz datoteke s poravnanjima 1287956\n",
            "Izračunata korelacija za očitanje je 4581225\n",
            "\n",
            "35 - Poravnanje za podatke pod identifikatorom SRR2052522.19283\n",
            "Podatak iz datoteke s poravnanjima 4403148\n",
            "Izračunata korelacija za očitanje je 4403147\n",
            "\n",
            "36 - Poravnanje za podatke pod identifikatorom SRR2052522.19531\n",
            "Podatak iz datoteke s poravnanjima 4240157\n",
            "Izračunata korelacija za očitanje je 1421664\n",
            "\n",
            "37 - Poravnanje za podatke pod identifikatorom SRR2052522.19603\n",
            "Podatak iz datoteke s poravnanjima 4092110\n",
            "Izračunata korelacija za očitanje je 4092109\n",
            "\n",
            "38 - Poravnanje za podatke pod identifikatorom SRR2052522.19773\n",
            "Podatak iz datoteke s poravnanjima 772981\n",
            "Izračunata korelacija za očitanje je 772980\n",
            "\n",
            "39 - Poravnanje za podatke pod identifikatorom SRR2052522.20942\n",
            "Podatak iz datoteke s poravnanjima 3555447\n",
            "Izračunata korelacija za očitanje je 3555436\n",
            "\n",
            "40 - Poravnanje za podatke pod identifikatorom SRR2052522.21536\n",
            "Podatak iz datoteke s poravnanjima 0\n",
            "Izračunata korelacija za očitanje je 3307817\n",
            "\n",
            "41 - Poravnanje za podatke pod identifikatorom SRR2052522.22024\n",
            "Podatak iz datoteke s poravnanjima 4632225\n",
            "Izračunata korelacija za očitanje je 2925637\n",
            "\n",
            "42 - Poravnanje za podatke pod identifikatorom SRR2052522.22559\n",
            "Podatak iz datoteke s poravnanjima 1190259\n",
            "Izračunata korelacija za očitanje je 1190258\n",
            "\n",
            "43 - Poravnanje za podatke pod identifikatorom SRR2052522.22571\n",
            "Podatak iz datoteke s poravnanjima 4343722\n",
            "Izračunata korelacija za očitanje je 4343721\n",
            "\n",
            "44 - Poravnanje za podatke pod identifikatorom SRR2052522.22764\n",
            "Podatak iz datoteke s poravnanjima 2081208\n",
            "Izračunata korelacija za očitanje je 663438\n",
            "\n",
            "45 - Poravnanje za podatke pod identifikatorom SRR2052522.23349\n",
            "Podatak iz datoteke s poravnanjima 3489621\n",
            "Izračunata korelacija za očitanje je 3251414\n",
            "\n",
            "46 - Poravnanje za podatke pod identifikatorom SRR2052522.23911\n",
            "Podatak iz datoteke s poravnanjima 3231184\n",
            "Izračunata korelacija za očitanje je 3231183\n",
            "\n",
            "47 - Poravnanje za podatke pod identifikatorom SRR2052522.24191\n",
            "Podatak iz datoteke s poravnanjima 4210509\n",
            "Izračunata korelacija za očitanje je 3426200\n",
            "\n",
            "48 - Poravnanje za podatke pod identifikatorom SRR2052522.24597\n",
            "Podatak iz datoteke s poravnanjima 1706156\n",
            "Izračunata korelacija za očitanje je 4506317\n",
            "\n",
            "49 - Poravnanje za podatke pod identifikatorom SRR2052522.24840\n",
            "Podatak iz datoteke s poravnanjima 2645130\n",
            "Izračunata korelacija za očitanje je 4331841\n",
            "\n",
            "50 - Poravnanje za podatke pod identifikatorom SRR2052522.25270\n",
            "Podatak iz datoteke s poravnanjima 1367057\n",
            "Izračunata korelacija za očitanje je 1367056\n",
            "\n",
            "51 - Poravnanje za podatke pod identifikatorom SRR2052522.27349\n",
            "Podatak iz datoteke s poravnanjima 4065374\n",
            "Izračunata korelacija za očitanje je 3467501\n",
            "\n",
            "52 - Poravnanje za podatke pod identifikatorom SRR2052522.27706\n",
            "Podatak iz datoteke s poravnanjima 4253640\n",
            "Izračunata korelacija za očitanje je 4253639\n",
            "\n",
            "53 - Poravnanje za podatke pod identifikatorom SRR2052522.27894\n",
            "Podatak iz datoteke s poravnanjima 2258893\n",
            "Izračunata korelacija za očitanje je 3508865\n",
            "\n",
            "54 - Poravnanje za podatke pod identifikatorom SRR2052522.28063\n",
            "Podatak iz datoteke s poravnanjima 61336\n",
            "Izračunata korelacija za očitanje je 61335\n",
            "\n",
            "55 - Poravnanje za podatke pod identifikatorom SRR2052522.28640\n",
            "Podatak iz datoteke s poravnanjima 185089\n",
            "Izračunata korelacija za očitanje je 3980033\n",
            "\n",
            "56 - Poravnanje za podatke pod identifikatorom SRR2052522.31407\n",
            "Podatak iz datoteke s poravnanjima 401311\n",
            "Izračunata korelacija za očitanje je 401310\n",
            "\n",
            "57 - Poravnanje za podatke pod identifikatorom SRR2052522.31832\n",
            "Podatak iz datoteke s poravnanjima 0\n",
            "Izračunata korelacija za očitanje je 2341959\n",
            "\n",
            "58 - Poravnanje za podatke pod identifikatorom SRR2052522.31934\n",
            "Podatak iz datoteke s poravnanjima 1630908\n",
            "Izračunata korelacija za očitanje je 1630907\n",
            "\n",
            "59 - Poravnanje za podatke pod identifikatorom SRR2052522.32057\n",
            "Podatak iz datoteke s poravnanjima 3394078\n",
            "Izračunata korelacija za očitanje je 3394077\n",
            "\n",
            "60 - Poravnanje za podatke pod identifikatorom SRR2052522.33263\n",
            "Podatak iz datoteke s poravnanjima 3430571\n",
            "Izračunata korelacija za očitanje je 4632496\n",
            "\n",
            "61 - Poravnanje za podatke pod identifikatorom SRR2052522.33290\n",
            "Podatak iz datoteke s poravnanjima 3337355\n",
            "Izračunata korelacija za očitanje je 4497880\n",
            "\n",
            "62 - Poravnanje za podatke pod identifikatorom SRR2052522.34810\n",
            "Podatak iz datoteke s poravnanjima 1314811\n",
            "Izračunata korelacija za očitanje je 4224279\n",
            "\n",
            "63 - Poravnanje za podatke pod identifikatorom SRR2052522.35251\n",
            "Podatak iz datoteke s poravnanjima 144429\n",
            "Izračunata korelacija za očitanje je 1684329\n",
            "\n",
            "64 - Poravnanje za podatke pod identifikatorom SRR2052522.35421\n",
            "Podatak iz datoteke s poravnanjima 3547160\n",
            "Izračunata korelacija za očitanje je 3547159\n",
            "\n",
            "65 - Poravnanje za podatke pod identifikatorom SRR2052522.35654\n",
            "Podatak iz datoteke s poravnanjima 1584283\n",
            "Izračunata korelacija za očitanje je 1584282\n",
            "\n",
            "66 - Poravnanje za podatke pod identifikatorom SRR2052522.36181\n",
            "Podatak iz datoteke s poravnanjima 0\n",
            "Izračunata korelacija za očitanje je 3443642\n",
            "\n",
            "67 - Poravnanje za podatke pod identifikatorom SRR2052522.36517\n",
            "Podatak iz datoteke s poravnanjima 4264880\n",
            "Izračunata korelacija za očitanje je 2114503\n",
            "\n",
            "68 - Poravnanje za podatke pod identifikatorom SRR2052522.36536\n",
            "Podatak iz datoteke s poravnanjima 1120872\n",
            "Izračunata korelacija za očitanje je 2349930\n",
            "\n",
            "69 - Poravnanje za podatke pod identifikatorom SRR2052522.36563\n",
            "Podatak iz datoteke s poravnanjima 4325021\n",
            "Izračunata korelacija za očitanje je 4325020\n",
            "\n",
            "70 - Poravnanje za podatke pod identifikatorom SRR2052522.36890\n",
            "Podatak iz datoteke s poravnanjima 2359506\n",
            "Izračunata korelacija za očitanje je 2359505\n",
            "\n",
            "71 - Poravnanje za podatke pod identifikatorom SRR2052522.39237\n",
            "Podatak iz datoteke s poravnanjima 3336148\n",
            "Izračunata korelacija za očitanje je 3336147\n",
            "\n",
            "72 - Poravnanje za podatke pod identifikatorom SRR2052522.39281\n",
            "Podatak iz datoteke s poravnanjima 2059694\n",
            "Izračunata korelacija za očitanje je 2545174\n",
            "\n",
            "73 - Poravnanje za podatke pod identifikatorom SRR2052522.41456\n",
            "Podatak iz datoteke s poravnanjima 2462402\n",
            "Izračunata korelacija za očitanje je 220209\n",
            "\n",
            "74 - Poravnanje za podatke pod identifikatorom SRR2052522.41719\n",
            "Podatak iz datoteke s poravnanjima 3945909\n",
            "Izračunata korelacija za očitanje je 4212242\n",
            "\n",
            "75 - Poravnanje za podatke pod identifikatorom SRR2052522.41879\n",
            "Podatak iz datoteke s poravnanjima 2606564\n",
            "Izračunata korelacija za očitanje je 2606563\n",
            "\n",
            "76 - Poravnanje za podatke pod identifikatorom SRR2052522.42159\n",
            "Podatak iz datoteke s poravnanjima 2112216\n",
            "Izračunata korelacija za očitanje je 3973225\n",
            "\n",
            "77 - Poravnanje za podatke pod identifikatorom SRR2052522.43596\n",
            "Podatak iz datoteke s poravnanjima 2982448\n",
            "Izračunata korelacija za očitanje je 3658914\n",
            "\n",
            "78 - Poravnanje za podatke pod identifikatorom SRR2052522.43779\n",
            "Podatak iz datoteke s poravnanjima 1273486\n",
            "Izračunata korelacija za očitanje je 4356752\n",
            "\n",
            "79 - Poravnanje za podatke pod identifikatorom SRR2052522.43918\n",
            "Podatak iz datoteke s poravnanjima 1700777\n",
            "Izračunata korelacija za očitanje je 1700776\n",
            "\n",
            "80 - Poravnanje za podatke pod identifikatorom SRR2052522.44065\n",
            "Podatak iz datoteke s poravnanjima 530762\n",
            "Izračunata korelacija za očitanje je 530761\n",
            "\n",
            "81 - Poravnanje za podatke pod identifikatorom SRR2052522.44668\n",
            "Podatak iz datoteke s poravnanjima 0\n",
            "Izračunata korelacija za očitanje je 3201007\n",
            "\n",
            "82 - Poravnanje za podatke pod identifikatorom SRR2052522.47508\n",
            "Podatak iz datoteke s poravnanjima 3721518\n",
            "Izračunata korelacija za očitanje je 3268804\n",
            "\n",
            "83 - Poravnanje za podatke pod identifikatorom SRR2052522.48239\n",
            "Podatak iz datoteke s poravnanjima 2718163\n",
            "Izračunata korelacija za očitanje je 2718162\n",
            "\n",
            "84 - Poravnanje za podatke pod identifikatorom SRR2052522.48346\n",
            "Podatak iz datoteke s poravnanjima 397791\n",
            "Izračunata korelacija za očitanje je 1508527\n",
            "\n",
            "85 - Poravnanje za podatke pod identifikatorom SRR2052522.48700\n",
            "Podatak iz datoteke s poravnanjima 922586\n",
            "Izračunata korelacija za očitanje je 922585\n",
            "\n",
            "86 - Poravnanje za podatke pod identifikatorom SRR2052522.49210\n",
            "Podatak iz datoteke s poravnanjima 1094404\n",
            "Izračunata korelacija za očitanje je 1094403\n",
            "\n",
            "87 - Poravnanje za podatke pod identifikatorom SRR2052522.49984\n",
            "Podatak iz datoteke s poravnanjima 0\n",
            "Izračunata korelacija za očitanje je 3841115\n",
            "\n",
            "88 - Poravnanje za podatke pod identifikatorom SRR2052522.50490\n",
            "Podatak iz datoteke s poravnanjima 2974154\n",
            "Izračunata korelacija za očitanje je 349911\n",
            "\n",
            "89 - Poravnanje za podatke pod identifikatorom SRR2052522.51677\n",
            "Podatak iz datoteke s poravnanjima 0\n",
            "Izračunata korelacija za očitanje je 921032\n",
            "\n",
            "90 - Poravnanje za podatke pod identifikatorom SRR2052522.52344\n",
            "Podatak iz datoteke s poravnanjima 4429449\n",
            "Izračunata korelacija za očitanje je 4429448\n",
            "\n",
            "91 - Poravnanje za podatke pod identifikatorom SRR2052522.52571\n",
            "Podatak iz datoteke s poravnanjima 2705463\n",
            "Izračunata korelacija za očitanje je 2705462\n",
            "\n",
            "92 - Poravnanje za podatke pod identifikatorom SRR2052522.53437\n",
            "Podatak iz datoteke s poravnanjima 0\n",
            "Izračunata korelacija za očitanje je 1198986\n",
            "\n",
            "93 - Poravnanje za podatke pod identifikatorom SRR2052522.53469\n",
            "Podatak iz datoteke s poravnanjima 3667199\n",
            "Izračunata korelacija za očitanje je 1571663\n",
            "\n",
            "94 - Poravnanje za podatke pod identifikatorom SRR2052522.53847\n",
            "Podatak iz datoteke s poravnanjima 0\n",
            "Izračunata korelacija za očitanje je 3806074\n",
            "\n",
            "95 - Poravnanje za podatke pod identifikatorom SRR2052522.53882\n",
            "Podatak iz datoteke s poravnanjima 521348\n",
            "Izračunata korelacija za očitanje je 521347\n",
            "\n",
            "96 - Poravnanje za podatke pod identifikatorom SRR2052522.54155\n",
            "Podatak iz datoteke s poravnanjima 4155944\n",
            "Izračunata korelacija za očitanje je 1219321\n",
            "\n",
            "97 - Poravnanje za podatke pod identifikatorom SRR2052522.54286\n",
            "Podatak iz datoteke s poravnanjima 2465746\n",
            "Izračunata korelacija za očitanje je 3497758\n",
            "\n",
            "98 - Poravnanje za podatke pod identifikatorom SRR2052522.54371\n",
            "Podatak iz datoteke s poravnanjima 2487383\n",
            "Izračunata korelacija za očitanje je 2487382\n",
            "\n",
            "99 - Poravnanje za podatke pod identifikatorom SRR2052522.55060\n",
            "Podatak iz datoteke s poravnanjima 3973269\n",
            "Izračunata korelacija za očitanje je 3973268\n",
            "\n",
            "100 - Poravnanje za podatke pod identifikatorom SRR2052522.55158\n",
            "Podatak iz datoteke s poravnanjima 1962342\n",
            "Izračunata korelacija za očitanje je 2042971\n",
            "\n",
            "Podataka koji se razlikuju za najviše 5 ima: 46\n"
          ]
        }
      ]
    },
    {
      "cell_type": "markdown",
      "metadata": {
        "id": "wgHiDpSh62hv"
      },
      "source": [
        "11. ZAKLJUČAK\n",
        "\n",
        "Očekivani broj točno pozicioniranih očitanja je 50, jer smo za sada uspješno radili samo s očitanjima na jednom lancu DNA.\n",
        "\n",
        "Prolaskom kroz zadatke u ovoj vježbi dobili ste kratak uvod u rad s bioinformatičkim podacima i tehnikama obrade signala."
      ]
    }
  ],
  "metadata": {
    "accelerator": "GPU",
    "colab": {
      "provenance": []
    },
    "gpuClass": "standard",
    "kernelspec": {
      "display_name": "Python 3",
      "language": "python",
      "name": "python3"
    },
    "language_info": {
      "codemirror_mode": {
        "name": "ipython",
        "version": 3
      },
      "file_extension": ".py",
      "mimetype": "text/x-python",
      "name": "python",
      "nbconvert_exporter": "python",
      "pygments_lexer": "ipython3",
      "version": "3.8.3"
    }
  },
  "nbformat": 4,
  "nbformat_minor": 0
}